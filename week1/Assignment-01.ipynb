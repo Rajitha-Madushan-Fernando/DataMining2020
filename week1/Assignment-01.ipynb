{
 "cells": [
  {
   "cell_type": "markdown",
   "metadata": {},
   "source": [
    "# Exercise I: Your own Python module "
   ]
  },
  {
   "cell_type": "markdown",
   "metadata": {},
   "source": [
    "Write your own python module (choose a name) with the following properties:\n",
    "\n",
    "1. start new python file for the module\n",
    "2. define a class ***ListKeeper*** with the following properties and API:\n",
    "   1. ***Listkeeper*** strores named lists (hint: use dictionaries) \n",
    "   2. it initializes with a list named *example*: [1,2,3,4,5]\n",
    "   3. ``show()`` returns all list names\n",
    "   4. ``add(name, list)`` adds a new list\n",
    "   5. ``delete(name)`` deletes list\n",
    "   6. ``sort(name)`` returns the sorted list *name*\n",
    "   7. ``append(name, list)`` appends *list* to *name* \n",
    "3. add comments and documentation to your class\n",
    "4. Import your module in this notebook\n",
    "5. write tests to check the functionality of your class "
   ]
  },
  {
   "cell_type": "code",
   "execution_count": 214,
   "metadata": {},
   "outputs": [
    {
     "name": "stdout",
     "output_type": "stream",
     "text": [
      "{'example': ['1', '2', '3', '4', '5']}\n",
      "{'example': ['1', '2', '3', '4', '5'], 'Rajitha': 'Srilanka'}\n",
      "{'example': ['1', '2', '3', '4', '5'], 'Rajitha': 'Srilanka', 'Prof Dirk': 'Ethics'}\n",
      "{'example': ['1', '2', '3', '4', '5'], 'Rajitha': 'Srilanka', 'Prof Dirk': 'Ethics', 'Prof Kuper': 'Data-Mining'}\n",
      "Prof Dirk\n",
      "Prof Kuper\n",
      "Rajitha\n",
      "example\n",
      "example\n",
      "Rajitha\n",
      "Prof Dirk\n",
      "Prof Kuper\n"
     ]
    }
   ],
   "source": [
    "# -*- coding: utf-8 -*-\n",
    "\"\"\"\n",
    "Spyder Editor\n",
    "\n",
    "This is a temporary script file.\n",
    "\n",
    "Author : Rajitha Madushan Fernando\n",
    "Mail : pfernand@stud.hs-offenbug.de\n",
    "Date : 21-10-2020\n",
    "\n",
    "Data Mining Course 2020\n",
    "Assignement 01 Week 01\n",
    "ENITS Prgramme\n",
    "\n",
    "\"\"\"\n",
    "\n",
    "#Defining a new class and given name ListKeeper\n",
    "class ListKeeper:\n",
    "    \n",
    "    #Initiate the dictionary\n",
    "    initdict={}\n",
    "    \n",
    "    #Defining a init function\n",
    "    def __init__(self):\n",
    "        self.name = \"example\" \n",
    "        self.value = ['1','2','3','4','5']\n",
    "        ListKeeper.initdict[self.name]=self.value\n",
    "        print(ListKeeper.initdict)\n",
    "        \n",
    "    \n",
    "    #Defining show() function for retrive all list name\n",
    "    def show(self):\n",
    "       for self.key in ListKeeper.initdict:\n",
    "           print(self.key)\n",
    "    \n",
    "    #Defining add() function for add a new list\n",
    "    def add(self,name,list):\n",
    "        ListKeeper.initdict[name]=list\n",
    "        print(ListKeeper.initdict)\n",
    "    \n",
    "    #Defining a delete() for deletes list\n",
    "    def delete(self,name):\n",
    "        ListKeeper.initdict.pop(name)\n",
    "        print(ListKeeper.initdict)\n",
    "    \n",
    "    #Defining a sort() for return the sorted list name\n",
    "    def sort(self):\n",
    "        for self.key in sorted(ListKeeper.initdict):\n",
    "            print(self.key)\n",
    "    \n",
    "    #Defining  append() \n",
    "    def append(self,name,list):\n",
    "        ListKeeper.initdict[name].append(list)\n",
    "        print(ListKeeper.initdict)\n",
    "        \n",
    "     \n",
    "a=ListKeeper() \n",
    "\n",
    "#Add some names to list\n",
    "a.add(\"Rajitha\", \"Srilanka\")\n",
    "a.add(\"Prof Dirk\", \"Ethics\")\n",
    "a.add(\"Prof Kuper\", \"Data-Mining\")\n",
    "\n",
    "#Call Sorting function \n",
    "a.sort()\n",
    "\n",
    "#List all items   \n",
    "a.show()\n"
   ]
  },
  {
   "cell_type": "code",
   "execution_count": null,
   "metadata": {},
   "outputs": [],
   "source": []
  }
 ],
 "metadata": {
  "kernelspec": {
   "display_name": "Python 3",
   "language": "python",
   "name": "python3"
  },
  "language_info": {
   "codemirror_mode": {
    "name": "ipython",
    "version": 3
   },
   "file_extension": ".py",
   "mimetype": "text/x-python",
   "name": "python",
   "nbconvert_exporter": "python",
   "pygments_lexer": "ipython3",
   "version": "3.8.3"
  }
 },
 "nbformat": 4,
 "nbformat_minor": 4
}
