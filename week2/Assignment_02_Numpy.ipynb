{
 "cells": [
  {
   "cell_type": "markdown",
   "metadata": {},
   "source": [
    "# Assignment: Numpy"
   ]
  },
  {
   "cell_type": "markdown",
   "metadata": {},
   "source": [
    "Perform the follwing tasks:\n"
   ]
  },
  {
   "cell_type": "code",
   "execution_count": 79,
   "metadata": {},
   "outputs": [],
   "source": [
    "#1: import the numpy library\n",
    "import numpy as np\n",
    "import matplotlib.pyplot as plt"
   ]
  },
  {
   "cell_type": "code",
   "execution_count": 80,
   "metadata": {},
   "outputs": [
    {
     "data": {
      "text/plain": [
       "array([[ 0.14596959,  0.21026046,  0.34440393,  0.1627422 , -0.9524165 ,\n",
       "         1.05366062,  1.37868253,  0.27955815,  1.89936865, -0.63442705],\n",
       "       [ 0.84456794, -0.3564928 ,  1.49806105, -2.53522173, -1.59628191,\n",
       "        -1.14540194,  0.25933351,  1.98533219, -1.48255572, -0.12273301],\n",
       "       [-0.33917109, -0.19596236,  0.98898262,  0.09748328,  0.3408777 ,\n",
       "         1.33292302, -1.26536387,  0.62911828, -0.85751945, -0.00596334],\n",
       "       [-1.66060686, -0.23551786, -0.43704851,  0.07685976, -1.02655646,\n",
       "        -0.15407155,  1.64415717, -1.06571235, -0.06035463,  1.33444001],\n",
       "       [ 0.47341315, -2.42291157,  1.2233871 ,  0.68151456,  0.07475923,\n",
       "        -0.12812988, -0.66471955,  1.09991105,  0.712525  ,  1.6693641 ],\n",
       "       [-0.45249566,  0.38760717,  1.54222465,  1.24726149,  0.47828521,\n",
       "        -0.29749257,  0.31635494,  2.04639085,  1.21303368,  0.83449047],\n",
       "       [-0.89934402, -0.54499212, -0.69652758,  1.21911179,  1.10214307,\n",
       "         1.8316046 , -0.18027503, -0.12587562,  0.15324033,  1.1056154 ],\n",
       "       [-0.29376347,  1.57940066, -1.94014205, -0.31070506,  0.30576875,\n",
       "         2.28182322,  1.05717016, -0.01299606,  1.70760604,  0.8997772 ],\n",
       "       [ 1.66045896,  0.20672041,  0.42757847,  0.91239115, -0.10869257,\n",
       "        -1.27906279, -0.92561248, -1.27983466, -1.18111658,  0.38852894],\n",
       "       [ 1.66846213, -0.68984551, -1.20168518, -0.33634083, -0.42784961,\n",
       "        -1.89824587, -0.62683566, -0.30969993, -0.83230571, -0.20313833]])"
      ]
     },
     "execution_count": 80,
     "metadata": {},
     "output_type": "execute_result"
    }
   ],
   "source": [
    "#2: create a random 10x10 array named A\n",
    "A = np.random.randn(10,10)\n",
    "A\n"
   ]
  },
  {
   "cell_type": "code",
   "execution_count": 71,
   "metadata": {},
   "outputs": [
    {
     "data": {
      "text/plain": [
       "array([[ 0.96616917, -1.48118662,  1.63207095, -0.14408404,  0.08549846],\n",
       "       [ 0.49818951,  0.33339961,  0.9357141 ,  1.04787307, -0.85122166],\n",
       "       [-1.17637681, -0.18151554,  0.65703   ,  0.17598957,  0.95722545],\n",
       "       [ 0.30802832, -0.17358455,  0.23868281, -0.26552559,  0.32465901],\n",
       "       [ 0.44381263,  0.49711621,  0.6222738 ,  0.44203568,  0.79845385],\n",
       "       [ 0.59651231,  0.34190774,  0.87176743,  1.36570222,  0.10406613],\n",
       "       [ 0.55483513, -0.24011854, -0.65853097, -0.28858911, -0.71151927],\n",
       "       [-0.98457475,  0.09882114,  0.89943854, -0.41749678,  0.336993  ],\n",
       "       [-1.74002057,  0.1324018 , -2.32621164, -1.01750713, -1.86569773],\n",
       "       [-0.52923741,  1.57903189, -1.14580132, -0.29955512,  0.10410562]])"
      ]
     },
     "execution_count": 71,
     "metadata": {},
     "output_type": "execute_result"
    }
   ],
   "source": [
    "#3: return only the odd rows of A\n",
    "A[:,1::2]"
   ]
  },
  {
   "cell_type": "code",
   "execution_count": 73,
   "metadata": {},
   "outputs": [
    {
     "data": {
      "text/plain": [
       "array([[12.48921723,  3.4209621 , -3.51117248,  3.72959802, -2.46407511,\n",
       "         4.40384938, -0.93430869,  2.02392387, -6.9962595 , -4.52467292],\n",
       "       [ 3.4209621 ,  7.95469437,  0.04325184, -1.68471709,  1.58327087,\n",
       "         1.53876883,  1.27018782,  2.71098152, -5.4011971 , -3.41298165],\n",
       "       [-3.51117248,  0.04325184,  8.38203998, -2.85000737,  3.13915988,\n",
       "        -3.33184784, -1.85904614,  2.27780177, -5.93006788,  1.11964859],\n",
       "       [ 3.72959802, -1.68471709, -2.85000737,  6.22490464, -3.98816658,\n",
       "         5.37533096, -0.37040985, -0.14596915, -1.63577729, -0.61830546],\n",
       "       [-2.46407511,  1.58327087,  3.13915988, -3.98816658,  6.59743578,\n",
       "        -0.10611355, -1.88511569, -1.60208629, -1.2655952 , -2.1577349 ],\n",
       "       [ 4.40384938,  1.53876883, -3.33184784,  5.37533096, -0.10611355,\n",
       "        11.85251877, -3.45158826, -3.49865398, -0.58038191, -3.80581756],\n",
       "       [-0.93430869,  1.27018782, -1.85904614, -0.37040985, -1.88511569,\n",
       "        -3.45158826,  4.63477795,  1.80730446,  0.48961611, -0.72008905],\n",
       "       [ 2.02392387,  2.71098152,  2.27780177, -0.14596915, -1.60208629,\n",
       "        -3.49865398,  1.80730446,  6.71974945, -5.63979186,  0.20261313],\n",
       "       [-6.9962595 , -5.4011971 , -5.93006788, -1.63577729, -1.2655952 ,\n",
       "        -0.58038191,  0.48961611, -5.63979186, 25.15567703, -0.46490399],\n",
       "       [-4.52467292, -3.41298165,  1.11964859, -0.61830546, -2.1577349 ,\n",
       "        -3.80581756, -0.72008905,  0.20261313, -0.46490399,  9.51580027]])"
      ]
     },
     "execution_count": 73,
     "metadata": {},
     "output_type": "execute_result"
    }
   ],
   "source": [
    "#4: perform a matrix multiplication of A with it's transposed\n",
    "\n",
    "#Get transpose of A\n",
    "T = A.transpose()\n",
    "\n",
    "#Do a matrix multiplication\n",
    "M = np.dot(A, T)\n",
    "M"
   ]
  },
  {
   "cell_type": "code",
   "execution_count": 74,
   "metadata": {},
   "outputs": [
    {
     "data": {
      "text/plain": [
       "array([[  1.9096365 ,  -0.75790868,   2.02372357,  -0.24441151,\n",
       "          1.42845782,   1.93358517,   3.62212482,   0.29386947,\n",
       "          0.9173023 ,   1.74420466],\n",
       "       [ -0.58502043,   0.48664032,  -0.78410484,   0.62393993,\n",
       "         -0.1716842 ,  -0.90956247,  -1.00979232,  -0.44224836,\n",
       "         -0.390297  ,  -0.51521943],\n",
       "       [ -3.09950187,   0.89173283,  -3.14402138,   0.5420409 ,\n",
       "         -2.28695651,  -2.51528053,  -5.05098649,  -0.05353058,\n",
       "         -1.42509544,  -2.77817456],\n",
       "       [ -1.83082417,   1.12924835,  -1.84387758,   1.08277995,\n",
       "         -0.80939168,  -1.80289926,  -3.14193653,  -0.06536637,\n",
       "         -0.68346672,  -1.18662598],\n",
       "       [ -0.22694908,   0.16554523,  -0.35702315,   0.16808773,\n",
       "         -0.37314732,  -0.33006596,  -0.86740053,  -0.182876  ,\n",
       "         -0.13084845,  -0.1909443 ],\n",
       "       [ -6.52116171,   3.25690307,  -6.5044209 ,   2.3890617 ,\n",
       "         -4.76644937,  -6.5936389 , -11.96046482,  -0.65110504,\n",
       "         -2.99873265,  -5.88810805],\n",
       "       [  3.38585412,  -1.56003478,   3.07653333,  -1.14381696,\n",
       "          2.68674888,   3.32502585,   5.84237186,   0.60014664,\n",
       "          1.62278507,   2.88233758],\n",
       "       [  2.02849122,  -1.63112895,   2.04445981,  -2.21476335,\n",
       "          0.99829569,   3.14402952,   4.17950105,   0.53278092,\n",
       "          0.70530761,   1.78675874],\n",
       "       [  0.34376654,  -0.57697371,  -0.04710258,  -0.91351374,\n",
       "         -0.05270184,   0.62064927,   0.61483705,   0.41940222,\n",
       "         -0.03456858,   0.29080005],\n",
       "       [  5.63030565,  -3.2343138 ,   5.45651681,  -2.17368253,\n",
       "          4.42992808,   5.87519366,  10.17533311,   1.02576159,\n",
       "          2.42434559,   4.96566635]])"
      ]
     },
     "execution_count": 74,
     "metadata": {},
     "output_type": "execute_result"
    }
   ],
   "source": [
    "#5: compute the matrix inverse of A\n",
    "I = np.linalg.inv(A) # equivalent to C.I\n",
    "I"
   ]
  },
  {
   "cell_type": "code",
   "execution_count": 75,
   "metadata": {},
   "outputs": [
    {
     "data": {
      "text/plain": [
       "array([[0. , 0. , 0. , 0. , 0. , 0. , 0.5, 0.5, 0.5, 0.5, 1. , 1. , 1.5,\n",
       "        1.5, 1.5, 2. , 2. , 2. , 2.5, 2.5, 2.5, 2.5, 2.5, 2.5, 2.5, 3. ,\n",
       "        3. , 3. , 3.5, 3.5, 3.5, 4. , 4. , 4. , 4.5, 4.5, 4.5],\n",
       "       [0. , 0.5, 2. , 2.5, 3. , 4. , 0. , 2.5, 3. , 3.5, 2.5, 4.5, 0. ,\n",
       "        1. , 2. , 2.5, 3. , 4.5, 0. , 0.5, 1. , 2. , 2.5, 3. , 3.5, 0. ,\n",
       "        0.5, 4. , 0. , 2.5, 4. , 1. , 2. , 3. , 1.5, 2. , 4. ]])"
      ]
     },
     "execution_count": 75,
     "metadata": {},
     "output_type": "execute_result"
    }
   ],
   "source": [
    "#6: divide all entries of A which are lager than 0.5 by 2 (hint: use where() )\n",
    "L = np.where(A > 0.5)\n",
    "R = np.divide(L,2)\n",
    "R"
   ]
  },
  {
   "cell_type": "code",
   "execution_count": 76,
   "metadata": {},
   "outputs": [
    {
     "data": {
      "text/plain": [
       "array([[-0.38737061, -0.42230815, -0.13479757, -0.21989885, -0.44231868,\n",
       "         0.4980268 ,  0.11191384, -0.10463069,  0.12920455,  0.34818291],\n",
       "       [-0.2698605 , -0.03598023,  0.28313697, -0.40590917,  0.54845703,\n",
       "         0.03585602,  0.39995227, -0.26293871,  0.34264543, -0.17987965],\n",
       "       [-0.13675465,  0.42570885,  0.23432778,  0.22657782, -0.376252  ,\n",
       "        -0.35611733,  0.25968684, -0.45728732,  0.17720399,  0.34276492],\n",
       "       [-0.09367676, -0.33862529, -0.32054617,  0.23597511, -0.0468464 ,\n",
       "        -0.4197553 , -0.08724912,  0.15115768,  0.70062587, -0.13563452],\n",
       "       [-0.01787719,  0.16488867,  0.602881  ,  0.07761468, -0.00457919,\n",
       "         0.20785379, -0.16118327,  0.5855635 ,  0.35430596,  0.25569719],\n",
       "       [-0.11090514, -0.5549336 ,  0.24532593,  0.40625091,  0.2955561 ,\n",
       "        -0.24751932,  0.22813691,  0.05515165, -0.35036819,  0.35785316],\n",
       "       [ 0.0224449 ,  0.0643572 , -0.19949085, -0.43150571,  0.29934926,\n",
       "        -0.26810371, -0.45303025, -0.07451257,  0.02908055,  0.62947344],\n",
       "       [-0.22658107,  0.18424285, -0.23172064, -0.33358122, -0.14851254,\n",
       "        -0.33357956,  0.49288249,  0.5760688 , -0.19835214,  0.04776425],\n",
       "       [ 0.82035934, -0.24220221,  0.08283608, -0.2484177 , -0.15559868,\n",
       "        -0.02777964,  0.35028207, -0.02215664,  0.16564131,  0.15545845],\n",
       "       [ 0.11041019,  0.30426531, -0.46904213,  0.38679669,  0.36950999,\n",
       "         0.39909139,  0.32182329,  0.06427049,  0.16644986,  0.30724901]])"
      ]
     },
     "execution_count": 76,
     "metadata": {},
     "output_type": "execute_result"
    }
   ],
   "source": [
    "#7: compute the singular value decomposition of A\n",
    "U,S,V = np.linalg.svd(A)\n",
    "U\n"
   ]
  },
  {
   "cell_type": "code",
   "execution_count": 81,
   "metadata": {},
   "outputs": [
    {
     "data": {
      "text/plain": [
       "[<matplotlib.lines.Line2D at 0x7f6ec5677130>]"
      ]
     },
     "execution_count": 81,
     "metadata": {},
     "output_type": "execute_result"
    },
    {
     "data": {
      "image/png": "[encoded data removed]",
      "text/plain": [
       "<Figure size 432x288 with 1 Axes>"
      ]
     },
     "metadata": {
      "needs_background": "light"
     },
     "output_type": "display_data"
    }
   ],
   "source": [
    "#7.1: plot the singular values\n",
    "plt.plot(S)\n"
   ]
  },
  {
   "cell_type": "code",
   "execution_count": 78,
   "metadata": {},
   "outputs": [
    {
     "data": {
      "text/plain": [
       "array([[ 1.75148488,  0.75181072, -0.33031701, -1.54275144,  0.81397653,\n",
       "         1.67839252,  1.02915282, -0.10573065,  0.70259414,  0.25852175],\n",
       "       [ 0.65519071,  1.04287575, -0.93280009,  0.20212231, -1.34889313,\n",
       "         0.87733496,  0.92673748,  1.00632143,  0.14919986, -0.5415862 ],\n",
       "       [-1.14600787, -0.52143571, -1.03012648, -0.05280122, -0.87107867,\n",
       "         0.67190351, -1.25389529,  0.01727468, -0.45140212,  1.26131852],\n",
       "       [ 1.26251966,  0.42706787,  0.4392397 , -0.23129939,  1.74435482,\n",
       "         0.21818286, -0.0223256 , -0.05692453,  0.32016156,  0.15414142],\n",
       "       [-1.28029622, -0.00428636, -0.54468073,  0.19892653, -0.90254154,\n",
       "         0.5586275 ,  0.28203204,  0.74495577, -1.37802345,  0.42716471],\n",
       "       [ 0.90351885,  1.14781946,  0.45787432,  0.21431732,  2.02663532,\n",
       "         0.7437045 ,  1.04020571,  1.21092685, -1.31166259,  0.10020285],\n",
       "       [ 0.46351386,  0.08877189, -0.05680198,  0.12236032, -0.99223419,\n",
       "        -0.48283377,  0.25846604, -0.24977347,  1.05371709, -0.87673233],\n",
       "       [ 0.59302635, -0.01296135, -0.82501094, -0.52290191, -1.04658565,\n",
       "         0.52339147, -0.4309143 , -0.44843897,  1.30599596,  0.11030301],\n",
       "       [-1.54463988, -1.21489599,  2.53180429, -0.09076738,  0.46463989,\n",
       "        -2.4393571 ,  1.83240431, -1.04559185, -0.86643463, -1.73534462],\n",
       "       [-0.01254945, -0.36963479,  0.05493531,  1.28478369,  0.38080032,\n",
       "        -1.23063339, -2.07064183, -0.25529007,  0.68714166,  0.23577097]])"
      ]
     },
     "execution_count": 78,
     "metadata": {},
     "output_type": "execute_result"
    }
   ],
   "source": [
    "#7.2: reconstruct A' by using only the top 5 singular values\n",
    "np.dot(U[:,:5]*S[:5],V[:5,:])"
   ]
  }
 ],
 "metadata": {
  "kernelspec": {
   "display_name": "Python 3",
   "language": "python",
   "name": "python3"
  },
  "language_info": {
   "codemirror_mode": {
    "name": "ipython",
    "version": 3
   },
   "file_extension": ".py",
   "mimetype": "text/x-python",
   "name": "python",
   "nbconvert_exporter": "python",
   "pygments_lexer": "ipython3",
   "version": "3.8.3"
  }
 },
 "nbformat": 4,
 "nbformat_minor": 4
}
